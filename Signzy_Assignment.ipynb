{
 "cells": [
  {
   "cell_type": "code",
   "execution_count": 31,
   "id": "f114a978",
   "metadata": {},
   "outputs": [],
   "source": [
    "import pandas as pd\n",
    "import numpy as np\n",
    "import matplotlib.pyplot as plt\n",
    "import seaborn as sns\n",
    "import warnings"
   ]
  },
  {
   "cell_type": "code",
   "execution_count": 32,
   "id": "a6d8c6cf",
   "metadata": {
    "scrolled": true
   },
   "outputs": [
    {
     "data": {
      "text/html": [
       "<div>\n",
       "<style scoped>\n",
       "    .dataframe tbody tr th:only-of-type {\n",
       "        vertical-align: middle;\n",
       "    }\n",
       "\n",
       "    .dataframe tbody tr th {\n",
       "        vertical-align: top;\n",
       "    }\n",
       "\n",
       "    .dataframe thead th {\n",
       "        text-align: right;\n",
       "    }\n",
       "</style>\n",
       "<table border=\"1\" class=\"dataframe\">\n",
       "  <thead>\n",
       "    <tr style=\"text-align: right;\">\n",
       "      <th></th>\n",
       "      <th>vehicleNumber</th>\n",
       "      <th>class</th>\n",
       "      <th>vehicleManufacturerName</th>\n",
       "      <th>model</th>\n",
       "      <th>vehicleColour</th>\n",
       "      <th>type</th>\n",
       "      <th>owner</th>\n",
       "      <th>ownerFatherName</th>\n",
       "      <th>regAuthority</th>\n",
       "      <th>regDate</th>\n",
       "      <th>...</th>\n",
       "      <th>permitValidUpto</th>\n",
       "      <th>nonUseStatus</th>\n",
       "      <th>nonUseFrom</th>\n",
       "      <th>nonUseTo</th>\n",
       "      <th>nationalPermitNumber</th>\n",
       "      <th>nationalPermitUpto</th>\n",
       "      <th>nationalPermitIssuedBy</th>\n",
       "      <th>isCommercial</th>\n",
       "      <th>nocDetails</th>\n",
       "      <th>error</th>\n",
       "    </tr>\n",
       "  </thead>\n",
       "  <tbody>\n",
       "    <tr>\n",
       "      <th>0</th>\n",
       "      <td>5</td>\n",
       "      <td>M-Cycle/Scooter</td>\n",
       "      <td>BAJAJ AUTO LTD</td>\n",
       "      <td>PULSAR 150 DTSI</td>\n",
       "      <td>COCKT. WINE RED</td>\n",
       "      <td>PETROL</td>\n",
       "      <td>VIKAS CHAUHAN</td>\n",
       "      <td>NaN</td>\n",
       "      <td>ALIGARH RTO, UTTAR PRADESH</td>\n",
       "      <td>2015-12-01 00:00:00</td>\n",
       "      <td>...</td>\n",
       "      <td>NaN</td>\n",
       "      <td>NaN</td>\n",
       "      <td>NaN</td>\n",
       "      <td>NaN</td>\n",
       "      <td>NaN</td>\n",
       "      <td>NaN</td>\n",
       "      <td>NaN</td>\n",
       "      <td>NaN</td>\n",
       "      <td>NaN</td>\n",
       "      <td>NaN</td>\n",
       "    </tr>\n",
       "    <tr>\n",
       "      <th>1</th>\n",
       "      <td>4</td>\n",
       "      <td>M-Cycle/Scooter</td>\n",
       "      <td>TVS MOTOR COMPANY LTD</td>\n",
       "      <td>TVS APACHE RTR 160 (BS IV)</td>\n",
       "      <td>WHITE</td>\n",
       "      <td>PETROL</td>\n",
       "      <td>AASIM KHAN</td>\n",
       "      <td>SHAN AHMAD</td>\n",
       "      <td>HAPUR, UTTAR PRADESH</td>\n",
       "      <td>18/04/2018</td>\n",
       "      <td>...</td>\n",
       "      <td>NaN</td>\n",
       "      <td>NaN</td>\n",
       "      <td>NaN</td>\n",
       "      <td>NaN</td>\n",
       "      <td>NaN</td>\n",
       "      <td>NaN</td>\n",
       "      <td>NaN</td>\n",
       "      <td>NaN</td>\n",
       "      <td>NaN</td>\n",
       "      <td>NaN</td>\n",
       "    </tr>\n",
       "    <tr>\n",
       "      <th>2</th>\n",
       "      <td>6</td>\n",
       "      <td>M-Cycle/Scooter(2WN)</td>\n",
       "      <td>TVS MOTOR COMPANY LTD</td>\n",
       "      <td>STAR CITY</td>\n",
       "      <td>BLACK</td>\n",
       "      <td>PETROL</td>\n",
       "      <td>MR KHURSHEED AHMAD</td>\n",
       "      <td>SHRI CHANDA KHAN</td>\n",
       "      <td>KASHIPUR ARTO, UTTARAKHAND</td>\n",
       "      <td>29/11/2012</td>\n",
       "      <td>...</td>\n",
       "      <td>NaN</td>\n",
       "      <td>N</td>\n",
       "      <td>NaN</td>\n",
       "      <td>NaN</td>\n",
       "      <td>NaN</td>\n",
       "      <td>NaN</td>\n",
       "      <td>NaN</td>\n",
       "      <td>0.0</td>\n",
       "      <td>NaN</td>\n",
       "      <td>NaN</td>\n",
       "    </tr>\n",
       "    <tr>\n",
       "      <th>3</th>\n",
       "      <td>12</td>\n",
       "      <td>M-Cycle/Scooter(2WN)</td>\n",
       "      <td>TVS MOTOR COMPANY LTD</td>\n",
       "      <td>TVS  SPORT</td>\n",
       "      <td>RED</td>\n",
       "      <td>PETROL</td>\n",
       "      <td>RAKESH KUMAR</td>\n",
       "      <td>NaN</td>\n",
       "      <td>MATHURA, Uttar Pradesh</td>\n",
       "      <td>29/09/2015</td>\n",
       "      <td>...</td>\n",
       "      <td>NaN</td>\n",
       "      <td>NaN</td>\n",
       "      <td>NaN</td>\n",
       "      <td>NaN</td>\n",
       "      <td>NaN</td>\n",
       "      <td>NaN</td>\n",
       "      <td>NaN</td>\n",
       "      <td>NaN</td>\n",
       "      <td>NaN</td>\n",
       "      <td>NaN</td>\n",
       "    </tr>\n",
       "    <tr>\n",
       "      <th>4</th>\n",
       "      <td>13</td>\n",
       "      <td>M-Cycle/Scooter(2WN)</td>\n",
       "      <td>TVS MOTOR COMPANY LTD</td>\n",
       "      <td>TVS  SPORT</td>\n",
       "      <td>BLUE</td>\n",
       "      <td>PETROL</td>\n",
       "      <td>ISMAIL</td>\n",
       "      <td>IDSHAH</td>\n",
       "      <td>MATHURA, Uttar Pradesh</td>\n",
       "      <td>29/09/2015</td>\n",
       "      <td>...</td>\n",
       "      <td>NaN</td>\n",
       "      <td>NaN</td>\n",
       "      <td>NaN</td>\n",
       "      <td>NaN</td>\n",
       "      <td>NaN</td>\n",
       "      <td>NaN</td>\n",
       "      <td>NaN</td>\n",
       "      <td>NaN</td>\n",
       "      <td>NaN</td>\n",
       "      <td>NaN</td>\n",
       "    </tr>\n",
       "  </tbody>\n",
       "</table>\n",
       "<p>5 rows × 55 columns</p>\n",
       "</div>"
      ],
      "text/plain": [
       "   vehicleNumber                 class vehicleManufacturerName  \\\n",
       "0              5       M-Cycle/Scooter          BAJAJ AUTO LTD   \n",
       "1              4       M-Cycle/Scooter   TVS MOTOR COMPANY LTD   \n",
       "2              6  M-Cycle/Scooter(2WN)   TVS MOTOR COMPANY LTD   \n",
       "3             12  M-Cycle/Scooter(2WN)   TVS MOTOR COMPANY LTD   \n",
       "4             13  M-Cycle/Scooter(2WN)   TVS MOTOR COMPANY LTD   \n",
       "\n",
       "                        model    vehicleColour    type               owner  \\\n",
       "0             PULSAR 150 DTSI  COCKT. WINE RED  PETROL       VIKAS CHAUHAN   \n",
       "1  TVS APACHE RTR 160 (BS IV)            WHITE  PETROL          AASIM KHAN   \n",
       "2                   STAR CITY            BLACK  PETROL  MR KHURSHEED AHMAD   \n",
       "3                  TVS  SPORT              RED  PETROL        RAKESH KUMAR   \n",
       "4                  TVS  SPORT             BLUE  PETROL              ISMAIL   \n",
       "\n",
       "    ownerFatherName                regAuthority              regDate  ...  \\\n",
       "0               NaN  ALIGARH RTO, UTTAR PRADESH  2015-12-01 00:00:00  ...   \n",
       "1        SHAN AHMAD        HAPUR, UTTAR PRADESH           18/04/2018  ...   \n",
       "2  SHRI CHANDA KHAN  KASHIPUR ARTO, UTTARAKHAND           29/11/2012  ...   \n",
       "3               NaN      MATHURA, Uttar Pradesh           29/09/2015  ...   \n",
       "4            IDSHAH      MATHURA, Uttar Pradesh           29/09/2015  ...   \n",
       "\n",
       "  permitValidUpto nonUseStatus nonUseFrom  nonUseTo nationalPermitNumber  \\\n",
       "0             NaN          NaN        NaN       NaN                  NaN   \n",
       "1             NaN          NaN        NaN       NaN                  NaN   \n",
       "2             NaN            N        NaN       NaN                  NaN   \n",
       "3             NaN          NaN        NaN       NaN                  NaN   \n",
       "4             NaN          NaN        NaN       NaN                  NaN   \n",
       "\n",
       "  nationalPermitUpto nationalPermitIssuedBy isCommercial  nocDetails  error  \n",
       "0                NaN                    NaN          NaN         NaN    NaN  \n",
       "1                NaN                    NaN          NaN         NaN    NaN  \n",
       "2                NaN                    NaN          0.0         NaN    NaN  \n",
       "3                NaN                    NaN          NaN         NaN    NaN  \n",
       "4                NaN                    NaN          NaN         NaN    NaN  \n",
       "\n",
       "[5 rows x 55 columns]"
      ]
     },
     "execution_count": 32,
     "metadata": {},
     "output_type": "execute_result"
    }
   ],
   "source": [
    "df = pd.read_excel('Assignment - Hiring (Product Partnership Analyst).xlsx')\n",
    "df.head()"
   ]
  },
  {
   "cell_type": "code",
   "execution_count": 33,
   "id": "74c9ac1b",
   "metadata": {},
   "outputs": [
    {
     "data": {
      "text/plain": [
       "(1199, 55)"
      ]
     },
     "execution_count": 33,
     "metadata": {},
     "output_type": "execute_result"
    }
   ],
   "source": [
    "df.shape"
   ]
  },
  {
   "cell_type": "code",
   "execution_count": 34,
   "id": "43540fd8",
   "metadata": {},
   "outputs": [
    {
     "name": "stdout",
     "output_type": "stream",
     "text": [
      "<class 'pandas.core.frame.DataFrame'>\n",
      "RangeIndex: 1199 entries, 0 to 1198\n",
      "Data columns (total 55 columns):\n",
      " #   Column                         Non-Null Count  Dtype         \n",
      "---  ------                         --------------  -----         \n",
      " 0   vehicleNumber                  1199 non-null   int64         \n",
      " 1   class                          1199 non-null   object        \n",
      " 2   vehicleManufacturerName        1199 non-null   object        \n",
      " 3   model                          1199 non-null   object        \n",
      " 4   vehicleColour                  1179 non-null   object        \n",
      " 5   type                           1199 non-null   object        \n",
      " 6   owner                          1199 non-null   object        \n",
      " 7   ownerFatherName                1093 non-null   object        \n",
      " 8   regAuthority                   1199 non-null   object        \n",
      " 9   regDate                        1199 non-null   object        \n",
      " 10  regNo                          1199 non-null   object        \n",
      " 11  presentAddress                 1176 non-null   object        \n",
      " 12  rcExpiryDate                   1199 non-null   object        \n",
      " 13  rcTaxUpto                      0 non-null      float64       \n",
      " 14  vehicleInsuranceCompanyName    1199 non-null   object        \n",
      " 15  permanentAddress               1176 non-null   object        \n",
      " 16  vehicleManufacturingMonthYear  1060 non-null   datetime64[ns]\n",
      " 17  vehicleInsuranceUpto           1199 non-null   object        \n",
      " 18  vehicleCubicCapacity           224 non-null    float64       \n",
      " 19  grossVehicleWeight             1074 non-null   float64       \n",
      " 20  rcFinancer                     1025 non-null   object        \n",
      " 21  vehicleCategory                1199 non-null   object        \n",
      " 22  vehicleTaxUpto                 29 non-null     object        \n",
      " 23  rcStandardCap                  151 non-null    float64       \n",
      " 24  vehicleCylindersNo             175 non-null    float64       \n",
      " 25  vehicleSeatCapacity            199 non-null    float64       \n",
      " 26  splitPermanentAddress          1060 non-null   object        \n",
      " 27  splitPresentAddress            1060 non-null   object        \n",
      " 28  normsType                      67 non-null     object        \n",
      " 29  bodyType                       58 non-null     object        \n",
      " 30  ownerCount                     138 non-null    float64       \n",
      " 31  mobileNumber                   0 non-null      float64       \n",
      " 32  status                         66 non-null     object        \n",
      " 33  statusAsOn                     39 non-null     object        \n",
      " 34  unladenWeight                  36 non-null     float64       \n",
      " 35  rcStandardCap.1                18 non-null     float64       \n",
      " 36  vehicleSleeperCapacity         27 non-null     float64       \n",
      " 37  vehicleStandingCapacity        31 non-null     float64       \n",
      " 38  wheelbase                      33 non-null     float64       \n",
      " 39  puccUpto                       43 non-null     object        \n",
      " 40  blacklistStatus                1 non-null      object        \n",
      " 41  permitIssueDate                0 non-null      float64       \n",
      " 42  permitNumber                   0 non-null      float64       \n",
      " 43  permitType                     0 non-null      float64       \n",
      " 44  permitValidFrom                0 non-null      float64       \n",
      " 45  permitValidUpto                0 non-null      float64       \n",
      " 46  nonUseStatus                   5 non-null      object        \n",
      " 47  nonUseFrom                     0 non-null      float64       \n",
      " 48  nonUseTo                       0 non-null      float64       \n",
      " 49  nationalPermitNumber           0 non-null      float64       \n",
      " 50  nationalPermitUpto             0 non-null      float64       \n",
      " 51  nationalPermitIssuedBy         1 non-null      object        \n",
      " 52  isCommercial                   28 non-null     float64       \n",
      " 53  nocDetails                     0 non-null      float64       \n",
      " 54  error                          0 non-null      float64       \n",
      "dtypes: datetime64[ns](1), float64(25), int64(1), object(28)\n",
      "memory usage: 515.3+ KB\n"
     ]
    }
   ],
   "source": [
    "df.info()"
   ]
  },
  {
   "cell_type": "code",
   "execution_count": 35,
   "id": "2971bbc7",
   "metadata": {
    "scrolled": true
   },
   "outputs": [
    {
     "data": {
      "text/plain": [
       "vehicleNumber                       0\n",
       "class                               0\n",
       "vehicleManufacturerName             0\n",
       "model                               0\n",
       "vehicleColour                      20\n",
       "type                                0\n",
       "owner                               0\n",
       "ownerFatherName                   106\n",
       "regAuthority                        0\n",
       "regDate                             0\n",
       "regNo                               0\n",
       "presentAddress                     23\n",
       "rcExpiryDate                        0\n",
       "rcTaxUpto                        1199\n",
       "vehicleInsuranceCompanyName         0\n",
       "permanentAddress                   23\n",
       "vehicleManufacturingMonthYear     139\n",
       "vehicleInsuranceUpto                0\n",
       "vehicleCubicCapacity              975\n",
       "grossVehicleWeight                125\n",
       "rcFinancer                        174\n",
       "vehicleCategory                     0\n",
       "vehicleTaxUpto                   1170\n",
       "rcStandardCap                    1048\n",
       "vehicleCylindersNo               1024\n",
       "vehicleSeatCapacity              1000\n",
       "splitPermanentAddress             139\n",
       "splitPresentAddress               139\n",
       "normsType                        1132\n",
       "bodyType                         1141\n",
       "ownerCount                       1061\n",
       "mobileNumber                     1199\n",
       "status                           1133\n",
       "statusAsOn                       1160\n",
       "unladenWeight                    1163\n",
       "rcStandardCap.1                  1181\n",
       "vehicleSleeperCapacity           1172\n",
       "vehicleStandingCapacity          1168\n",
       "wheelbase                        1166\n",
       "puccUpto                         1156\n",
       "blacklistStatus                  1198\n",
       "permitIssueDate                  1199\n",
       "permitNumber                     1199\n",
       "permitType                       1199\n",
       "permitValidFrom                  1199\n",
       "permitValidUpto                  1199\n",
       "nonUseStatus                     1194\n",
       "nonUseFrom                       1199\n",
       "nonUseTo                         1199\n",
       "nationalPermitNumber             1199\n",
       "nationalPermitUpto               1199\n",
       "nationalPermitIssuedBy           1198\n",
       "isCommercial                     1171\n",
       "nocDetails                       1199\n",
       "error                            1199\n",
       "dtype: int64"
      ]
     },
     "execution_count": 35,
     "metadata": {},
     "output_type": "execute_result"
    }
   ],
   "source": [
    "df.isnull().sum()"
   ]
  },
  {
   "cell_type": "code",
   "execution_count": 36,
   "id": "6700a004",
   "metadata": {},
   "outputs": [],
   "source": [
    "date_columns = ['regDate', 'rcExpiryDate', 'vehicleManufacturingMonthYear', 'vehicleInsuranceUpto', 'puccUpto']\n",
    "df[date_columns] = df[date_columns].apply(pd.to_datetime, errors='coerce')\n",
    "warnings.filterwarnings(\"ignore\")"
   ]
  },
  {
   "cell_type": "markdown",
   "id": "b3c39edd",
   "metadata": {},
   "source": [
    "## IMPUTING MISSING VALUES"
   ]
  },
  {
   "cell_type": "code",
   "execution_count": 37,
   "id": "f0122b41",
   "metadata": {},
   "outputs": [],
   "source": [
    "# Dropping irrelevant columns with too many missing values\n",
    "df.drop(['mobileNumber', 'permitIssueDate', 'permitNumber', 'permitType', 'permitValidFrom',\n",
    "           'permitValidUpto', 'nonUseStatus', 'nonUseFrom', 'nonUseTo', 'nationalPermitNumber',\n",
    "           'nationalPermitUpto', 'nationalPermitIssuedBy', 'nocDetails', 'error'], axis=1, inplace=True)\n",
    "\n",
    "# Impute missing values in numeric columns with the mean\n",
    "numeric_columns = ['vehicleCubicCapacity', 'grossVehicleWeight', 'rcStandardCap',\n",
    "                   'vehicleCylindersNo', 'vehicleSeatCapacity', 'unladenWeight',\n",
    "                   'vehicleSleeperCapacity', 'vehicleStandingCapacity', 'wheelbase']\n",
    "df[numeric_columns] = df[numeric_columns].fillna(df[numeric_columns].mean())\n",
    "\n",
    "# Impute missing values in categorical columns with the mode\n",
    "categorical_columns = ['vehicleColour', 'splitPermanentAddress', 'splitPresentAddress',\n",
    "                       'normsType', 'bodyType', 'ownerCount', 'status', 'statusAsOn', 'rcStandardCap.1',\n",
    "                       'isCommercial', 'blacklistStatus']\n",
    "df[categorical_columns] = df[categorical_columns].fillna(df[categorical_columns].mode().iloc[0])\n",
    "\n",
    "# Impute missing values in date columns with a specific date (e.g., 1900-01-01)\n",
    "date_columns = ['rcExpiryDate', 'vehicleManufacturingMonthYear', 'vehicleInsuranceUpto', 'puccUpto']\n",
    "df[date_columns] = df[date_columns].fillna('1900-01-01')\n",
    "\n",
    "# For the ownerFatherName column, you may choose to drop it if it is not crucial for analysis\n",
    "df.drop(['ownerFatherName'], axis=1, inplace=True)"
   ]
  },
  {
   "cell_type": "code",
   "execution_count": 8,
   "id": "6e3f9161",
   "metadata": {},
   "outputs": [],
   "source": [
    "# Fill missing values in rcFinancer with 'NA' (Not Available)\n",
    "df['rcFinancer'].fillna('NA', inplace=True)\n",
    "\n",
    "# Fill missing values in vehicleTaxUpto with 0 (assuming the tax is not applicable)\n",
    "df['vehicleTaxUpto'].fillna(0, inplace=True)\n",
    "\n",
    "# For missing permanentAddress, set it as 'Not Available'\n",
    "df['permanentAddress'].fillna('Not Available', inplace=True)\n",
    "\n",
    "# Fill missing values in presentAddress with 'Not Available'\n",
    "df['presentAddress'].fillna('Not Available', inplace=True)\n",
    "\n",
    "# Fill missing values in rcTaxUpto with 0 (assuming the tax is not applicable)\n",
    "df['rcTaxUpto'].fillna(0, inplace=True)"
   ]
  },
  {
   "cell_type": "code",
   "execution_count": 9,
   "id": "0bf0c1af",
   "metadata": {},
   "outputs": [
    {
     "data": {
      "text/plain": [
       "vehicleNumber                    0\n",
       "class                            0\n",
       "vehicleManufacturerName          0\n",
       "model                            0\n",
       "vehicleColour                    0\n",
       "type                             0\n",
       "owner                            0\n",
       "regAuthority                     0\n",
       "regDate                          0\n",
       "regNo                            0\n",
       "presentAddress                   0\n",
       "rcExpiryDate                     0\n",
       "rcTaxUpto                        0\n",
       "vehicleInsuranceCompanyName      0\n",
       "permanentAddress                 0\n",
       "vehicleManufacturingMonthYear    0\n",
       "vehicleInsuranceUpto             0\n",
       "vehicleCubicCapacity             0\n",
       "grossVehicleWeight               0\n",
       "rcFinancer                       0\n",
       "vehicleCategory                  0\n",
       "vehicleTaxUpto                   0\n",
       "rcStandardCap                    0\n",
       "vehicleCylindersNo               0\n",
       "vehicleSeatCapacity              0\n",
       "splitPermanentAddress            0\n",
       "splitPresentAddress              0\n",
       "normsType                        0\n",
       "bodyType                         0\n",
       "ownerCount                       0\n",
       "status                           0\n",
       "statusAsOn                       0\n",
       "unladenWeight                    0\n",
       "rcStandardCap.1                  0\n",
       "vehicleSleeperCapacity           0\n",
       "vehicleStandingCapacity          0\n",
       "wheelbase                        0\n",
       "puccUpto                         0\n",
       "blacklistStatus                  0\n",
       "isCommercial                     0\n",
       "dtype: int64"
      ]
     },
     "execution_count": 9,
     "metadata": {},
     "output_type": "execute_result"
    }
   ],
   "source": [
    "df.isnull().sum()"
   ]
  },
  {
   "cell_type": "code",
   "execution_count": 10,
   "id": "3474fa18",
   "metadata": {
    "scrolled": true
   },
   "outputs": [
    {
     "name": "stdout",
     "output_type": "stream",
     "text": [
      "<class 'pandas.core.frame.DataFrame'>\n",
      "RangeIndex: 1199 entries, 0 to 1198\n",
      "Data columns (total 40 columns):\n",
      " #   Column                         Non-Null Count  Dtype         \n",
      "---  ------                         --------------  -----         \n",
      " 0   vehicleNumber                  1199 non-null   int64         \n",
      " 1   class                          1199 non-null   object        \n",
      " 2   vehicleManufacturerName        1199 non-null   object        \n",
      " 3   model                          1199 non-null   object        \n",
      " 4   vehicleColour                  1199 non-null   object        \n",
      " 5   type                           1199 non-null   object        \n",
      " 6   owner                          1199 non-null   object        \n",
      " 7   regAuthority                   1199 non-null   object        \n",
      " 8   regDate                        1199 non-null   datetime64[ns]\n",
      " 9   regNo                          1199 non-null   object        \n",
      " 10  presentAddress                 1199 non-null   object        \n",
      " 11  rcExpiryDate                   1199 non-null   datetime64[ns]\n",
      " 12  rcTaxUpto                      1199 non-null   float64       \n",
      " 13  vehicleInsuranceCompanyName    1199 non-null   object        \n",
      " 14  permanentAddress               1199 non-null   object        \n",
      " 15  vehicleManufacturingMonthYear  1199 non-null   datetime64[ns]\n",
      " 16  vehicleInsuranceUpto           1199 non-null   datetime64[ns]\n",
      " 17  vehicleCubicCapacity           1199 non-null   float64       \n",
      " 18  grossVehicleWeight             1199 non-null   float64       \n",
      " 19  rcFinancer                     1199 non-null   object        \n",
      " 20  vehicleCategory                1199 non-null   object        \n",
      " 21  vehicleTaxUpto                 1199 non-null   object        \n",
      " 22  rcStandardCap                  1199 non-null   float64       \n",
      " 23  vehicleCylindersNo             1199 non-null   float64       \n",
      " 24  vehicleSeatCapacity            1199 non-null   float64       \n",
      " 25  splitPermanentAddress          1199 non-null   object        \n",
      " 26  splitPresentAddress            1199 non-null   object        \n",
      " 27  normsType                      1199 non-null   object        \n",
      " 28  bodyType                       1199 non-null   object        \n",
      " 29  ownerCount                     1199 non-null   float64       \n",
      " 30  status                         1199 non-null   object        \n",
      " 31  statusAsOn                     1199 non-null   object        \n",
      " 32  unladenWeight                  1199 non-null   float64       \n",
      " 33  rcStandardCap.1                1199 non-null   float64       \n",
      " 34  vehicleSleeperCapacity         1199 non-null   float64       \n",
      " 35  vehicleStandingCapacity        1199 non-null   float64       \n",
      " 36  wheelbase                      1199 non-null   float64       \n",
      " 37  puccUpto                       1199 non-null   datetime64[ns]\n",
      " 38  blacklistStatus                1199 non-null   object        \n",
      " 39  isCommercial                   1199 non-null   float64       \n",
      "dtypes: datetime64[ns](5), float64(13), int64(1), object(21)\n",
      "memory usage: 374.8+ KB\n"
     ]
    }
   ],
   "source": [
    "df.info()"
   ]
  },
  {
   "cell_type": "markdown",
   "id": "d9eb93ba",
   "metadata": {},
   "source": [
    "# PART 1:\n",
    "\n",
    "### Feature Engineering for User Personas\n",
    "\n",
    "We can Create new variables based on the existing columns that can help define user personas. Some potential variables to create are:\n",
    "\n",
    "- <b>Vehicle Age:</b> Calculate the age of the vehicle based on the manufacturing month and year.\n",
    "- <b>Insurance Renewal Status:</b> Determine if the vehicle insurance is expired or still active.\n",
    "- <b>Frequency of Blacklisting:</b> Calculate the frequency of blacklisting incidents for each owner.\n",
    "- <b>Geographical Location:</b> Extract information from the present address to group owners by location.\n",
    "- <b>Frequency of Challans:</b> Calculate the frequency of traffic challans for each owner."
   ]
  },
  {
   "cell_type": "code",
   "execution_count": 11,
   "id": "44640f77",
   "metadata": {},
   "outputs": [],
   "source": [
    "from datetime import datetime\n",
    "# Calculate Vehicle Age\n",
    "df['VehicleAge'] = (datetime.now().year - df['vehicleManufacturingMonthYear'].dt.year).astype(int)\n",
    "\n",
    "# Determine Insurance Renewal Status\n",
    "df['InsuranceRenewed'] = (df['vehicleInsuranceUpto'] > datetime.now()).astype(int)\n",
    "\n",
    "# Count Blacklisting Frequency\n",
    "df['BlacklistingFrequency'] = df['blacklistStatus'].str.count('Yes')\n",
    "\n",
    "# Extract Location\n",
    "df['Location'] = df['presentAddress'].str.extract(r',\\s*(\\w+)$')"
   ]
  },
  {
   "cell_type": "markdown",
   "id": "a261d2e0",
   "metadata": {},
   "source": [
    "## Defining User Personas\n",
    "\n",
    "### Based on the newly created variables and existing columns, we can analyze the data to identify common patterns among vehicle owners.\n",
    "### Segment the owners into user personas based on their characteristics and behaviors. For example:\n",
    "- <b>Daily Commuters:</b> Owners who use their vehicles for daily commuting, with active insurance and low blacklisting/challan incidents.\n",
    "- <b>Commercial Operators:</b> Owners with commercial vehicles, higher insurance coverage, and higher blacklisting/challan incidents.\n",
    "- <b>Luxury Vehicle Owners:</b> Owners with high-end vehicles, premium insurance, and low blacklisting/challan incidents.\n",
    "- <b>Irregular Users:</b> Owners with irregular vehicle usage, expired insurance, and occasional blacklisting/challan incidents.\n",
    "- <b>Fleet Owners:</b> Owners with multiple vehicles, likely in the commercial category, with various insurance policies.\n"
   ]
  },
  {
   "cell_type": "code",
   "execution_count": 12,
   "id": "313763d5",
   "metadata": {},
   "outputs": [],
   "source": [
    "def assign_user_persona(row):\n",
    "    if row['InsuranceRenewed'] == 1 and row['BlacklistingFrequency'] < 3:\n",
    "        return 'Daily Commuters'\n",
    "    elif row['vehicleCategory'] == 'Commercial' and row['InsuranceRenewed'] == 1:\n",
    "        return 'Commercial Operators'\n",
    "    elif row['InsuranceRenewed'] == 1 and row['BlacklistingFrequency'] == 0:\n",
    "        return 'Luxury Vehicle Owners'\n",
    "    elif row['InsuranceRenewed'] == 0 or row['BlacklistingFrequency'] > 5:\n",
    "        return 'Irregular Users'\n",
    "    elif row['vehicleCategory'] == 'Commercial':\n",
    "        return 'Fleet Owners'\n",
    "    else:\n",
    "        return 'Others'"
   ]
  },
  {
   "cell_type": "code",
   "execution_count": 13,
   "id": "47ddb383",
   "metadata": {},
   "outputs": [],
   "source": [
    "# Apply the function to create a new column 'UserPersona'\n",
    "df['UserPersona'] = df.apply(assign_user_persona, axis=1)"
   ]
  },
  {
   "cell_type": "code",
   "execution_count": 14,
   "id": "2ebd1a40",
   "metadata": {},
   "outputs": [
    {
     "name": "stdout",
     "output_type": "stream",
     "text": [
      "Daily Commuters: Owners who use their vehicles for daily commuting, with active insurance and low blacklisting/challan incidents.\n",
      "Commercial Operators: Owners with commercial vehicles, higher insurance coverage, and higher blacklisting/challan incidents.\n",
      "Luxury Vehicle Owners: Owners with high-end vehicles, premium insurance, and low blacklisting/challan incidents.\n",
      "Irregular Users: Owners with irregular vehicle usage, expired insurance, and occasional blacklisting/challan incidents.\n",
      "Fleet Owners: Owners with multiple vehicles, likely in the commercial category, with various insurance policies.\n",
      "Others: Other vehicle owners not classified into specific personas.\n"
     ]
    }
   ],
   "source": [
    "persona_descriptions = {\n",
    "    'Daily Commuters': 'Owners who use their vehicles for daily commuting, with active insurance and low blacklisting/challan incidents.',\n",
    "    'Commercial Operators': 'Owners with commercial vehicles, higher insurance coverage, and higher blacklisting/challan incidents.',\n",
    "    'Luxury Vehicle Owners': 'Owners with high-end vehicles, premium insurance, and low blacklisting/challan incidents.',\n",
    "    'Irregular Users': 'Owners with irregular vehicle usage, expired insurance, and occasional blacklisting/challan incidents.',\n",
    "    'Fleet Owners': 'Owners with multiple vehicles, likely in the commercial category, with various insurance policies.',\n",
    "    'Others': 'Other vehicle owners not classified into specific personas.'\n",
    "}\n",
    "\n",
    "for persona, description in persona_descriptions.items():\n",
    "    print(f'{persona}: {description}')"
   ]
  },
  {
   "cell_type": "markdown",
   "id": "77a6f456",
   "metadata": {},
   "source": [
    "## Segementation of Owners\n",
    "\n",
    "### This will give us a count of owners in each user persona category."
   ]
  },
  {
   "cell_type": "code",
   "execution_count": 15,
   "id": "9ae3e809",
   "metadata": {},
   "outputs": [
    {
     "name": "stdout",
     "output_type": "stream",
     "text": [
      "Segmented Owners:\n",
      "       UserPersona  Count\n",
      "0  Daily Commuters   1152\n",
      "1  Irregular Users     47\n"
     ]
    }
   ],
   "source": [
    "segmented_data = df['UserPersona'].value_counts().reset_index()\n",
    "segmented_data.columns = ['UserPersona', 'Count']\n",
    "\n",
    "\n",
    "print(\"Segmented Owners:\")\n",
    "print(segmented_data)"
   ]
  },
  {
   "cell_type": "markdown",
   "id": "cae5ad03",
   "metadata": {},
   "source": [
    "Based on the segmentation of owners into different user personas, we can develop targeted marketing strategies, personalized insurance solutions, and product enhancements for each segment:\n",
    "\n",
    "<b>1) Daily Commuters:</b>\n",
    "\n",
    "- Marketing Strategy: Create marketing campaigns that highlight the importance of reliable and affordable insurance coverage for daily commuting. Emphasize benefits like quick claims processing and roadside assistance to cater to their regular usage patterns.\n",
    "- Personalized Insurance Solution: Offer flexible insurance plans with options for monthly or annual premium payments to align with their commuting needs.\n",
    "- Product Enhancement: Introduce add-ons like daily rental coverage and coverage for personal belongings to enhance the insurance offering for daily commuters.\n",
    "\n",
    "<b>2) Irregular Users:</b>\n",
    "\n",
    "- Marketing Strategy: Focus on educating this segment about the risks of driving without insurance and the benefits of having comprehensive coverage. Highlight the importance of staying protected during occasional vehicle usage.\n",
    "- Personalized Insurance Solution: Design pay-as-you-go insurance plans or short-term coverage options to accommodate their irregular usage patterns.\n",
    "- Product Enhancement: Provide incentives for purchasing insurance, such as discounted premiums or additional benefits for loyal customers."
   ]
  },
  {
   "cell_type": "code",
   "execution_count": 16,
   "id": "758bd15a",
   "metadata": {},
   "outputs": [
    {
     "name": "stdout",
     "output_type": "stream",
     "text": [
      "Most common persona: Daily Commuters\n"
     ]
    }
   ],
   "source": [
    "most_common_persona = df['UserPersona'].mode().iloc[0]\n",
    "print(f\"Most common persona: {most_common_persona}\")"
   ]
  },
  {
   "cell_type": "code",
   "execution_count": 17,
   "id": "3890730d",
   "metadata": {
    "scrolled": false
   },
   "outputs": [
    {
     "data": {
      "image/png": "[encoded data removed]",
      "text/plain": [
       "<Figure size 720x432 with 1 Axes>"
      ]
     },
     "metadata": {
      "needs_background": "light"
     },
     "output_type": "display_data"
    }
   ],
   "source": [
    "import matplotlib.pyplot as plt\n",
    "\n",
    "# Visualize the segmented owners\n",
    "plt.figure(figsize=(10, 6))\n",
    "plt.bar(segmented_data['UserPersona'], segmented_data['Count'])\n",
    "plt.xlabel('User Persona')\n",
    "plt.ylabel('Count')\n",
    "plt.title('Segmented Owners')\n",
    "plt.xticks(rotation=45)\n",
    "plt.show()"
   ]
  },
  {
   "cell_type": "markdown",
   "id": "c71053ed",
   "metadata": {},
   "source": [
    "# Product Strategy and Insights"
   ]
  },
  {
   "cell_type": "markdown",
   "id": "fd97ccde",
   "metadata": {},
   "source": [
    "### 1) Average vehicle age for each persona\n",
    "\n",
    "We calculate the average vehicle age for each persona. By understanding the average age of vehicles owned by different user personas, we can tailor insurance coverage and product offerings to suit the specific needs of each segment. For example, older vehicle owners may benefit from more extensive coverage options."
   ]
  },
  {
   "cell_type": "code",
   "execution_count": 18,
   "id": "12bdda7d",
   "metadata": {},
   "outputs": [
    {
     "name": "stdout",
     "output_type": "stream",
     "text": [
      "\n",
      "Average Vehicle Age by Persona:\n",
      " UserPersona\n",
      "Daily Commuters    12.432292\n",
      "Irregular Users    85.936170\n",
      "Name: VehicleAge, dtype: float64\n"
     ]
    }
   ],
   "source": [
    "vehicle_age_distribution = df.groupby('UserPersona')['VehicleAge'].mean()\n",
    "print(\"\\nAverage Vehicle Age by Persona:\\n\", vehicle_age_distribution)"
   ]
  },
  {
   "cell_type": "code",
   "execution_count": 19,
   "id": "17b2d94d",
   "metadata": {},
   "outputs": [
    {
     "data": {
      "image/png": "[encoded data removed]",
      "text/plain": [
       "<Figure size 576x432 with 1 Axes>"
      ]
     },
     "metadata": {
      "needs_background": "light"
     },
     "output_type": "display_data"
    }
   ],
   "source": [
    "import seaborn as sns\n",
    "\n",
    "plt.figure(figsize=(8, 6))\n",
    "sns.barplot(x='UserPersona', y='VehicleAge', data=df)\n",
    "plt.xlabel('User Persona')\n",
    "plt.ylabel('Average Vehicle Age')\n",
    "plt.title('Average Vehicle Age by Persona')\n",
    "plt.xticks(rotation=45)\n",
    "plt.show()"
   ]
  },
  {
   "cell_type": "markdown",
   "id": "042263aa",
   "metadata": {},
   "source": [
    "#### It indicates that daily commuters tend to own relatively newer vehicles, while irregular users have significantly older vehicles on average.\n"
   ]
  },
  {
   "cell_type": "markdown",
   "id": "6423a569",
   "metadata": {},
   "source": [
    "### 2) Average insurance renewal rate for each persona"
   ]
  },
  {
   "cell_type": "code",
   "execution_count": 20,
   "id": "aadfe937",
   "metadata": {},
   "outputs": [
    {
     "name": "stdout",
     "output_type": "stream",
     "text": [
      "\n",
      "Average Insurance Renewal Rate by Persona:\n",
      "UserPersona\n",
      "Daily Commuters    1.0\n",
      "Irregular Users    0.0\n",
      "Name: InsuranceRenewed, dtype: float64\n"
     ]
    }
   ],
   "source": [
    "average_renewal_rate_by_persona = df.groupby('UserPersona')['InsuranceRenewed'].mean()\n",
    "print(\"\\nAverage Insurance Renewal Rate by Persona:\")\n",
    "print(average_renewal_rate_by_persona)"
   ]
  },
  {
   "cell_type": "code",
   "execution_count": 21,
   "id": "a3f5158f",
   "metadata": {},
   "outputs": [
    {
     "data": {
      "image/png": "[encoded data removed]",
      "text/plain": [
       "<Figure size 576x432 with 1 Axes>"
      ]
     },
     "metadata": {
      "needs_background": "light"
     },
     "output_type": "display_data"
    }
   ],
   "source": [
    "plt.figure(figsize=(8, 6))\n",
    "sns.barplot(x='UserPersona', y='InsuranceRenewed', data=df, estimator=lambda x: sum(x)/len(x))\n",
    "plt.xlabel('User Persona')\n",
    "plt.ylabel('Average Insurance Renewal Rate')\n",
    "plt.title('Average Insurance Renewal Rate by Persona')\n",
    "plt.xticks(rotation=45)\n",
    "plt.show()"
   ]
  },
  {
   "cell_type": "markdown",
   "id": "e1de1b13",
   "metadata": {},
   "source": [
    "#### \"Daily Commuters\": \n",
    "The average insurance renewal rate for daily commuters is 1.0. This means that, on average, all daily commuters in the dataset have renewed their vehicle insurance. A renewal rate of 1.0 indicates that every daily commuter has an active and renewed insurance policy.\n",
    "\n",
    "#### \"Irregular Users\": \n",
    "The average insurance renewal rate for irregular users is 0.0. This suggests that, on average, none of the irregular users in the dataset have renewed their vehicle insurance. A renewal rate of 0.0 indicates that there are no active and renewed insurance policies for irregular users in the dataset."
   ]
  },
  {
   "cell_type": "markdown",
   "id": "ee9aae3e",
   "metadata": {},
   "source": [
    "### We can develop targeted strategies for engaging irregular users and encouraging them to renew their insurance, such as : \n",
    "\n",
    "\n",
    "- <b>Personalized Reminders:</b> Sending personalized reminders to irregular users before their insurance expires is crucial. By addressing users by name and providing specific policy details, the insurance company can create a sense of urgency and importance around insurance renewal. Personalized reminders are more likely to capture users' attention and prompt them to take action.\n",
    "\n",
    "- <b>Incentives and Discounts:</b> Offering attractive incentives and discounts can be a powerful motivator for irregular users to renew their insurance. Loyalty discounts, no-claim bonuses, and special renewal offers can entice users to renew their insurance on time. Discounts can create a sense of value and reward for users who stay loyal to the insurance company."
   ]
  },
  {
   "cell_type": "markdown",
   "id": "7683fd80",
   "metadata": {},
   "source": [
    "### 3) Blacklisting Frequency for Irregular Users"
   ]
  },
  {
   "cell_type": "code",
   "execution_count": 22,
   "id": "93d6722b",
   "metadata": {},
   "outputs": [
    {
     "name": "stdout",
     "output_type": "stream",
     "text": [
      "\n",
      "Average Blacklisting Frequency for Irregular Users: 0.00\n"
     ]
    }
   ],
   "source": [
    "irregular_users_blacklisting = df[df['UserPersona'] == 'Irregular Users']['BlacklistingFrequency'].mean()\n",
    "print(\"\\nAverage Blacklisting Frequency for Irregular Users: {:.2f}\".format(irregular_users_blacklisting))"
   ]
  },
  {
   "cell_type": "markdown",
   "id": "7a5c957a",
   "metadata": {},
   "source": [
    "This means that Irregular Users, as identified by the user persona classification, do not have any incidents of being blacklisted based on the available data.\n",
    "\n",
    "### Implications & Actions :\n",
    "\n",
    "- <b>Customer Engagement:</b> Since Irregular Users have a clean track record without any blacklisting incidents, insurance companies can leverage this information to engage with them proactively. Providing personalized offers, discounts, or loyalty rewards can be effective strategies to attract and retain these responsible customers.\n",
    "\n",
    "- <b>Safe Driving Incentives:</b> Considering the low blacklisting frequency, insurance companies can introduce safe driving incentive programs for Irregular Users. These incentives could include safe driver discounts, rewards for maintaining a clean driving record, or bonus coverage for accident-free years."
   ]
  },
  {
   "cell_type": "markdown",
   "id": "acc972af",
   "metadata": {},
   "source": [
    "# PART 2\n",
    "\n",
    "### We can define the buying tendency for Daily Commuters and Irregular Users based on whether their insurance is renewed or not. \n",
    "\n",
    "- For Daily Commuters, if their insurance is renewed (InsuranceRenewed == 1), they are classified as having a <b>\"High\"</b> buying tendency. If their insurance is not renewed and the expiration date is within 30 days (vehicleInsuranceUpto < datetime.now() + pd.Timedelta(days=30)), they are classified as having a <b>\"Medium\"</b> buying tendency. For Irregular Users, if their insurance is renewed (InsuranceRenewed == 1), they are classified as having a \"Medium\" buying tendency, and if it is not renewed, they are classified as having a <b>\"Low\"</b> buying tendency."
   ]
  },
  {
   "cell_type": "code",
   "execution_count": 23,
   "id": "df21098f",
   "metadata": {},
   "outputs": [
    {
     "name": "stdout",
     "output_type": "stream",
     "text": [
      "     vehicleInsuranceUpto BuyingTendency\n",
      "0              2022-10-09            Low\n",
      "1              2023-04-22            Low\n",
      "2              2022-09-21            Low\n",
      "3              2016-09-24            Low\n",
      "4              2016-09-24            Low\n",
      "...                   ...            ...\n",
      "1194           2027-10-06           High\n",
      "1195           2027-06-19           High\n",
      "1196           2027-08-28           High\n",
      "1197           2027-08-10           High\n",
      "1198           2027-06-11           High\n",
      "\n",
      "[1199 rows x 2 columns]\n",
      "Buying Tendency of Insurance:\n",
      "High      1152\n",
      "Low         47\n",
      "Medium       0\n",
      "Name: BuyingTendency, dtype: int64\n"
     ]
    }
   ],
   "source": [
    "def assign_buying_tendency(row):\n",
    "    if row['UserPersona'] == 'Daily Commuters':\n",
    "        if row['InsuranceRenewed'] == 1:\n",
    "            return 'High'\n",
    "        elif datetime.now() < row['vehicleInsuranceUpto'] < datetime.now() + pd.Timedelta(days=30):\n",
    "            return 'Medium'\n",
    "        else:\n",
    "            return 'Low'\n",
    "    elif row['UserPersona'] == 'Irregular Users':\n",
    "        if row['InsuranceRenewed'] == 1:\n",
    "            return 'Medium'\n",
    "        else:\n",
    "            return 'Low'\n",
    "    else:\n",
    "        return 'Low'  # For other personas, assume low tendency\n",
    "\n",
    "# Apply the function to create a new column 'BuyingTendency'\n",
    "df['BuyingTendency'] = df.apply(assign_buying_tendency, axis=1)\n",
    "\n",
    "# Print some rows to see the values of 'vehicleInsuranceUpto' and 'BuyingTendency'\n",
    "print(df[['vehicleInsuranceUpto', 'BuyingTendency']])\n",
    "\n",
    "# Count the number of owners in each buying tendency bracket\n",
    "buying_tendency_counts = df['BuyingTendency'].value_counts()\n",
    "\n",
    "# Check if \"Medium\" and \"High\" exist in the value counts and if not, add them with a count of 0\n",
    "if 'Medium' not in buying_tendency_counts.index:\n",
    "    buying_tendency_counts['Medium'] = 0\n",
    "if 'High' not in buying_tendency_counts.index:\n",
    "    buying_tendency_counts['High'] = 0\n",
    "\n",
    "# Sort the value counts by index (buying tendency)\n",
    "buying_tendency_counts = buying_tendency_counts.sort_index()\n",
    "\n",
    "# Print the results\n",
    "print(\"Buying Tendency of Insurance:\")\n",
    "print(buying_tendency_counts)"
   ]
  },
  {
   "cell_type": "code",
   "execution_count": 24,
   "id": "04c3a739",
   "metadata": {},
   "outputs": [
    {
     "data": {
      "image/png": "[encoded data removed]",
      "text/plain": [
       "<Figure size 720x432 with 1 Axes>"
      ]
     },
     "metadata": {
      "needs_background": "light"
     },
     "output_type": "display_data"
    }
   ],
   "source": [
    "# Creating an attractive bar plot for the buying tendency counts\n",
    "plt.figure(figsize=(10, 6))\n",
    "colors = ['#3498db', '#f39c12', '#2ecc71']\n",
    "buying_tendency_counts.plot(kind='bar', color=colors, edgecolor='black', alpha=0.8)\n",
    "\n",
    "plt.title('Buying Tendency of Insurance')\n",
    "plt.xlabel('Buying Tendency')\n",
    "plt.ylabel('Count of Owners')\n",
    "plt.xticks(rotation=0)\n",
    "\n",
    "for index, value in enumerate(buying_tendency_counts):\n",
    "    plt.text(index, value, str(value), ha='center', va='bottom', fontsize=12)\n",
    "\n",
    "plt.gca().spines['top'].set_visible(False)\n",
    "plt.gca().spines['right'].set_visible(False)\n",
    "plt.grid(axis='y', linestyle='--', alpha=0.7)\n",
    "plt.tight_layout()\n",
    "plt.show()"
   ]
  },
  {
   "cell_type": "markdown",
   "id": "76d70912",
   "metadata": {},
   "source": [
    "# PART 3\n",
    "\n",
    "To define the buying capability of insurance for customers, we need to assess their likelihood to renew the insurance. This can be done by calculating the insurance renewal rate for each customer, which represents the percentage of times they have renewed their insurance in the past."
   ]
  },
  {
   "cell_type": "markdown",
   "id": "c394b336",
   "metadata": {},
   "source": [
    "## The overall approach allows us to categorize customers based on their insurance renewal rates into three capability brackets, providing insights into the distribution of customers based on their capability to renew insurance."
   ]
  },
  {
   "cell_type": "code",
   "execution_count": 25,
   "id": "23b171fc",
   "metadata": {},
   "outputs": [
    {
     "name": "stdout",
     "output_type": "stream",
     "text": [
      "Buying Capability of Insurance:\n",
      "Low       1199\n",
      "Medium       0\n",
      "High         0\n",
      "Name: BuyingCapability, dtype: int64\n"
     ]
    }
   ],
   "source": [
    "# Calculate Insurance Renewal Rates for each customer\n",
    "insurance_renewal_rates = df.groupby('owner')['InsuranceRenewed'].apply(lambda x: (x == 'YES').mean()).reset_index()\n",
    "insurance_renewal_rates.columns = ['owner', 'InsuranceRenewalRate']\n",
    "\n",
    "# Merge the insurance renewal rates with the original data\n",
    "df = df.merge(insurance_renewal_rates, on='owner')\n",
    "\n",
    "# Define the capability brackets\n",
    "df['BuyingCapability'] = pd.cut(df['InsuranceRenewalRate'], bins=[0, 0.3, 0.7, 1.0], labels=['Low', 'Medium', 'High'], right=False)\n",
    "\n",
    "# Count the number of customers in each capability bracket\n",
    "buying_capability_counts = df['BuyingCapability'].value_counts()\n",
    "\n",
    "# Print the results\n",
    "print(\"Buying Capability of Insurance:\")\n",
    "print(buying_capability_counts)\n"
   ]
  },
  {
   "cell_type": "code",
   "execution_count": 26,
   "id": "3e6af130",
   "metadata": {},
   "outputs": [
    {
     "data": {
      "image/png": "[encoded data removed]",
      "text/plain": [
       "<Figure size 576x432 with 1 Axes>"
      ]
     },
     "metadata": {
      "needs_background": "light"
     },
     "output_type": "display_data"
    }
   ],
   "source": [
    "plt.figure(figsize=(8, 6))\n",
    "plt.bar(buying_capability_counts.index, buying_capability_counts.values, color='skyblue')\n",
    "plt.xlabel('Buying Capability of Insurance')\n",
    "plt.ylabel('Number of Customers')\n",
    "plt.title('Distribution of Customers Based on Buying Capability of Insurance')\n",
    "plt.xticks(rotation=45)\n",
    "plt.show()"
   ]
  }
 ],
 "metadata": {
  "kernelspec": {
   "display_name": "Python 3 (ipykernel)",
   "language": "python",
   "name": "python3"
  },
  "language_info": {
   "codemirror_mode": {
    "name": "ipython",
    "version": 3
   },
   "file_extension": ".py",
   "mimetype": "text/x-python",
   "name": "python",
   "nbconvert_exporter": "python",
   "pygments_lexer": "ipython3",
   "version": "3.9.12"
  }
 },
 "nbformat": 4,
 "nbformat_minor": 5
}
